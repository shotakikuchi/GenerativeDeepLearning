{
  "nbformat": 4,
  "nbformat_minor": 0,
  "metadata": {
    "colab": {
      "name": "0201_deep_learning_deep_nn.ipynb",
      "version": "0.3.2",
      "provenance": [],
      "collapsed_sections": []
    },
    "kernelspec": {
      "name": "python3",
      "display_name": "Python 3"
    },
    "accelerator": "GPU"
  },
  "cells": [
    {
      "cell_type": "code",
      "metadata": {
        "id": "hXgP7lbgQLaW",
        "colab_type": "code",
        "outputId": "e6308758-a1dd-46cb-d7c8-43e24bbd380b",
        "colab": {
          "base_uri": "https://localhost:8080/",
          "height": 34
        }
      },
      "source": [
        "import numpy as np\n",
        "from keras.utils import to_categorical\n",
        "from keras.datasets import cifar10\n",
        "\n",
        "from keras.layers import Input, Flatten, Dense, Conv2D, BatchNormalization, LeakyReLU, Dropout, Activation\n",
        "from keras.models import Model\n",
        "from keras.optimizers import Adam\n",
        "from keras.utils import to_categorical\n",
        "import keras.backend as K \n",
        "\n",
        "import matplotlib.pyplot as plt"
      ],
      "execution_count": 0,
      "outputs": [
        {
          "output_type": "stream",
          "text": [
            "Using TensorFlow backend.\n"
          ],
          "name": "stderr"
        }
      ]
    },
    {
      "cell_type": "code",
      "metadata": {
        "id": "g91Dm8ktTJ4O",
        "colab_type": "code",
        "colab": {}
      },
      "source": [
        "NUM_CLASSES = 10"
      ],
      "execution_count": 0,
      "outputs": []
    },
    {
      "cell_type": "markdown",
      "metadata": {
        "id": "jb4YF4k0jfyf",
        "colab_type": "text"
      },
      "source": [
        "## Load data"
      ]
    },
    {
      "cell_type": "code",
      "metadata": {
        "id": "3lEiImZXS6p0",
        "colab_type": "code",
        "colab": {}
      },
      "source": [
        "def load_data(num_classes):\n",
        "  (x_train, y_train), (x_test, y_test) = cifar10.load_data()\n",
        "  x_train = x_train.astype('float32') / 255.0\n",
        "  x_test = x_test.astype('float32') / 255.0\n",
        "  y_train = to_categorical(y_train, NUM_CLASSES)\n",
        "  y_test = to_categorical(y_test, NUM_CLASSES)\n",
        "  \n",
        "  return x_train, x_test , y_train, y_test"
      ],
      "execution_count": 0,
      "outputs": []
    },
    {
      "cell_type": "code",
      "metadata": {
        "id": "TB-AOkeZQL1x",
        "colab_type": "code",
        "outputId": "08b0add7-9dbd-4b8a-9b8c-e4cf3550b002",
        "colab": {
          "base_uri": "https://localhost:8080/",
          "height": 51
        }
      },
      "source": [
        "x_train, x_test , y_train, y_test = load_data(NUM_CLASSES)"
      ],
      "execution_count": 0,
      "outputs": [
        {
          "output_type": "stream",
          "text": [
            "Downloading data from https://www.cs.toronto.edu/~kriz/cifar-10-python.tar.gz\n",
            "170500096/170498071 [==============================] - 6s 0us/step\n"
          ],
          "name": "stdout"
        }
      ]
    },
    {
      "cell_type": "markdown",
      "metadata": {
        "id": "ckIhMlhSj-KC",
        "colab_type": "text"
      },
      "source": [
        "## Model Definition"
      ]
    },
    {
      "cell_type": "code",
      "metadata": {
        "id": "hQvfrSSjQL5D",
        "colab_type": "code",
        "colab": {}
      },
      "source": [
        "def build_dense_model():\n",
        "  \n",
        "  input_layer = Input(shape=(32, 32, 3))\n",
        "  x = Flatten()(input_layer)\n",
        "  x = Dense(units=200, activation='relu')(x)\n",
        "  x = Dense(units=150, activation='relu')(x)\n",
        "  output_layer = Dense(units=10, activation='softmax')(x)\n",
        "  \n",
        "  return Model(input_layer, output_layer)"
      ],
      "execution_count": 0,
      "outputs": []
    },
    {
      "cell_type": "code",
      "metadata": {
        "id": "RHG_LaWeigVZ",
        "colab_type": "code",
        "colab": {}
      },
      "source": [
        "def build_cnn_model():\n",
        "  input_layer = Input((32,32,3))\n",
        "\n",
        "  x = Conv2D(filters = 32, kernel_size = 3, strides = 1, padding = 'same')(input_layer)\n",
        "  x = BatchNormalization()(x)\n",
        "  x = LeakyReLU()(x)\n",
        "\n",
        "\n",
        "  x = Conv2D(filters = 32, kernel_size = 3, strides = 2, padding = 'same')(x)\n",
        "  x = BatchNormalization()(x)\n",
        "  x = LeakyReLU()(x)\n",
        "\n",
        "\n",
        "  x = Conv2D(filters = 64, kernel_size = 3, strides = 1, padding = 'same')(x)\n",
        "  x = BatchNormalization()(x)\n",
        "  x = LeakyReLU()(x)\n",
        "\n",
        "\n",
        "  x = Conv2D(filters = 64, kernel_size = 3, strides = 2, padding = 'same')(x)\n",
        "  x = BatchNormalization()(x)\n",
        "  x = LeakyReLU()(x)\n",
        "\n",
        "\n",
        "  x = Flatten()(x)\n",
        "\n",
        "  x = Dense(128)(x)\n",
        "  x = BatchNormalization()(x)\n",
        "  x = LeakyReLU()(x)\n",
        "  x = Dropout(rate = 0.5)(x)\n",
        "\n",
        "  x = Dense(NUM_CLASSES)(x)\n",
        "  output_layer = Activation('softmax')(x)\n",
        "\n",
        "  return Model(input_layer, output_layer)"
      ],
      "execution_count": 0,
      "outputs": []
    },
    {
      "cell_type": "code",
      "metadata": {
        "id": "aYjEBQRYRXDd",
        "colab_type": "code",
        "outputId": "f9821701-f3c2-4a34-cad5-1ac45cb3c9c9",
        "colab": {
          "base_uri": "https://localhost:8080/",
          "height": 156
        }
      },
      "source": [
        "model = build_dense_model()"
      ],
      "execution_count": 0,
      "outputs": [
        {
          "output_type": "stream",
          "text": [
            "WARNING: Logging before flag parsing goes to stderr.\n",
            "W0810 12:41:08.503883 140121006331776 deprecation_wrapper.py:119] From /usr/local/lib/python3.6/dist-packages/keras/backend/tensorflow_backend.py:74: The name tf.get_default_graph is deprecated. Please use tf.compat.v1.get_default_graph instead.\n",
            "\n",
            "W0810 12:41:08.549990 140121006331776 deprecation_wrapper.py:119] From /usr/local/lib/python3.6/dist-packages/keras/backend/tensorflow_backend.py:517: The name tf.placeholder is deprecated. Please use tf.compat.v1.placeholder instead.\n",
            "\n",
            "W0810 12:41:08.577651 140121006331776 deprecation_wrapper.py:119] From /usr/local/lib/python3.6/dist-packages/keras/backend/tensorflow_backend.py:4138: The name tf.random_uniform is deprecated. Please use tf.random.uniform instead.\n",
            "\n"
          ],
          "name": "stderr"
        }
      ]
    },
    {
      "cell_type": "code",
      "metadata": {
        "id": "x9qM3VVvRkqo",
        "colab_type": "code",
        "outputId": "7bd8c0db-7f45-4cee-d2e7-ad417593dc2b",
        "colab": {
          "base_uri": "https://localhost:8080/",
          "height": 306
        }
      },
      "source": [
        "model.summary()"
      ],
      "execution_count": 0,
      "outputs": [
        {
          "output_type": "stream",
          "text": [
            "_________________________________________________________________\n",
            "Layer (type)                 Output Shape              Param #   \n",
            "=================================================================\n",
            "input_1 (InputLayer)         (None, 32, 32, 3)         0         \n",
            "_________________________________________________________________\n",
            "flatten_1 (Flatten)          (None, 3072)              0         \n",
            "_________________________________________________________________\n",
            "dense_1 (Dense)              (None, 200)               614600    \n",
            "_________________________________________________________________\n",
            "dense_2 (Dense)              (None, 150)               30150     \n",
            "_________________________________________________________________\n",
            "dense_3 (Dense)              (None, 10)                1510      \n",
            "=================================================================\n",
            "Total params: 646,260\n",
            "Trainable params: 646,260\n",
            "Non-trainable params: 0\n",
            "_________________________________________________________________\n"
          ],
          "name": "stdout"
        }
      ]
    },
    {
      "cell_type": "code",
      "metadata": {
        "id": "HjEtS6nkR2CC",
        "colab_type": "code",
        "outputId": "75189263-1133-4ad7-b5e1-1eb296c66c42",
        "colab": {
          "base_uri": "https://localhost:8080/",
          "height": 105
        }
      },
      "source": [
        "#compile\n",
        "opt = Adam(lr=0.0005)\n",
        "model.compile(loss='categorical_crossentropy', optimizer=opt, metrics=['accuracy'])"
      ],
      "execution_count": 0,
      "outputs": [
        {
          "output_type": "stream",
          "text": [
            "W0810 12:41:14.032330 140121006331776 deprecation_wrapper.py:119] From /usr/local/lib/python3.6/dist-packages/keras/optimizers.py:790: The name tf.train.Optimizer is deprecated. Please use tf.compat.v1.train.Optimizer instead.\n",
            "\n",
            "W0810 12:41:14.044085 140121006331776 deprecation_wrapper.py:119] From /usr/local/lib/python3.6/dist-packages/keras/backend/tensorflow_backend.py:3295: The name tf.log is deprecated. Please use tf.math.log instead.\n",
            "\n"
          ],
          "name": "stderr"
        }
      ]
    },
    {
      "cell_type": "markdown",
      "metadata": {
        "id": "Ry_kZaBWkF6L",
        "colab_type": "text"
      },
      "source": [
        "## Train dense model"
      ]
    },
    {
      "cell_type": "code",
      "metadata": {
        "id": "A670cf45WLvP",
        "colab_type": "code",
        "outputId": "9686d04b-be60-403a-b150-453dd9504619",
        "colab": {
          "base_uri": "https://localhost:8080/",
          "height": 479
        }
      },
      "source": [
        "# train dense model\n",
        "model.fit(x_train, y_train, batch_size=32, epochs=10, shuffle=True)"
      ],
      "execution_count": 0,
      "outputs": [
        {
          "output_type": "stream",
          "text": [
            "W0810 12:41:15.016074 140121006331776 deprecation.py:323] From /usr/local/lib/python3.6/dist-packages/tensorflow/python/ops/math_grad.py:1250: add_dispatch_support.<locals>.wrapper (from tensorflow.python.ops.array_ops) is deprecated and will be removed in a future version.\n",
            "Instructions for updating:\n",
            "Use tf.where in 2.0, which has the same broadcast rule as np.where\n",
            "W0810 12:41:15.087560 140121006331776 deprecation_wrapper.py:119] From /usr/local/lib/python3.6/dist-packages/keras/backend/tensorflow_backend.py:986: The name tf.assign_add is deprecated. Please use tf.compat.v1.assign_add instead.\n",
            "\n"
          ],
          "name": "stderr"
        },
        {
          "output_type": "stream",
          "text": [
            "Epoch 1/10\n",
            "50000/50000 [==============================] - 13s 268us/step - loss: 1.8515 - acc: 0.3321\n",
            "Epoch 2/10\n",
            "50000/50000 [==============================] - 10s 197us/step - loss: 1.6703 - acc: 0.4028\n",
            "Epoch 3/10\n",
            "50000/50000 [==============================] - 10s 194us/step - loss: 1.5915 - acc: 0.4325\n",
            "Epoch 4/10\n",
            "50000/50000 [==============================] - 10s 194us/step - loss: 1.5374 - acc: 0.4531\n",
            "Epoch 5/10\n",
            "50000/50000 [==============================] - 10s 194us/step - loss: 1.4980 - acc: 0.4675\n",
            "Epoch 6/10\n",
            "50000/50000 [==============================] - 10s 194us/step - loss: 1.4693 - acc: 0.4783\n",
            "Epoch 7/10\n",
            "50000/50000 [==============================] - 10s 193us/step - loss: 1.4430 - acc: 0.4887\n",
            "Epoch 8/10\n",
            "50000/50000 [==============================] - 10s 194us/step - loss: 1.4146 - acc: 0.4975\n",
            "Epoch 9/10\n",
            "50000/50000 [==============================] - 10s 193us/step - loss: 1.3998 - acc: 0.5030\n",
            "Epoch 10/10\n",
            "50000/50000 [==============================] - 10s 192us/step - loss: 1.3783 - acc: 0.5128\n"
          ],
          "name": "stdout"
        },
        {
          "output_type": "execute_result",
          "data": {
            "text/plain": [
              "<keras.callbacks.History at 0x7f702b22c160>"
            ]
          },
          "metadata": {
            "tags": []
          },
          "execution_count": 11
        }
      ]
    },
    {
      "cell_type": "code",
      "metadata": {
        "id": "RNf4HuSjZ7go",
        "colab_type": "code",
        "outputId": "2a449457-0557-41f3-ce61-c35bd8d19138",
        "colab": {
          "base_uri": "https://localhost:8080/",
          "height": 51
        }
      },
      "source": [
        "#evaluate\n",
        "model.evaluate(x_test, y_test)"
      ],
      "execution_count": 0,
      "outputs": [
        {
          "output_type": "stream",
          "text": [
            "10000/10000 [==============================] - 1s 73us/step\n"
          ],
          "name": "stdout"
        },
        {
          "output_type": "execute_result",
          "data": {
            "text/plain": [
              "[1.4525331756591797, 0.4873]"
            ]
          },
          "metadata": {
            "tags": []
          },
          "execution_count": 12
        }
      ]
    },
    {
      "cell_type": "code",
      "metadata": {
        "id": "bi_CLEUYa_lL",
        "colab_type": "code",
        "colab": {}
      },
      "source": [
        "CLASSES = np.array(['airplane', 'automobile', 'bird', 'cat', 'deer', 'dog', 'frog', 'horse', 'ship', 'truck'])\n",
        "preds = model.predict(x_test)\n",
        "preds_class = CLASSES[np.argmax(preds, axis=-1)]\n",
        "actual_class = CLASSES[np.argmax(y_test, axis=-1)]"
      ],
      "execution_count": 0,
      "outputs": []
    },
    {
      "cell_type": "code",
      "metadata": {
        "id": "WGv1w8TycGLb",
        "colab_type": "code",
        "colab": {}
      },
      "source": [
        "def debug_plot(preds_class, actual_class, n_to_show=10):\n",
        "  indices = np.random.choice(x_test.shape[0], n_to_show)\n",
        "\n",
        "  fig = plt.figure(figsize=(15, 3))\n",
        "  fig.subplots_adjust(hspace=0.4, wspace=0.4)\n",
        "\n",
        "  for i, idx in enumerate(indices):\n",
        "    img = x_test[idx]\n",
        "    ax = fig.add_subplot(1, n_to_show, i+1)\n",
        "    ax.axis('off')\n",
        "    ax.text(0.5, -0.35, 'pred='+str(preds_class[idx]), fontsize=10, ha='center', \n",
        "            transform=ax.transAxes)\n",
        "    ax.text(0.5, -0.7, 'act='+str(actual_class[idx]), fontsize=10, ha='center', \n",
        "            transform=ax.transAxes)\n",
        "    ax.imshow(img)\n",
        "  plt.show()"
      ],
      "execution_count": 0,
      "outputs": []
    },
    {
      "cell_type": "code",
      "metadata": {
        "id": "xodyz15iff7-",
        "colab_type": "code",
        "outputId": "5a9ef790-75bc-4051-91c2-f44de4e56e64",
        "colab": {
          "base_uri": "https://localhost:8080/",
          "height": 161
        }
      },
      "source": [
        "debug_plot(preds_class, actual_class)"
      ],
      "execution_count": 0,
      "outputs": [
        {
          "output_type": "display_data",
          "data": {
            "image/png": "[encoded data removed]",
            "text/plain": [
              "<Figure size 1080x216 with 10 Axes>"
            ]
          },
          "metadata": {
            "tags": []
          }
        }
      ]
    },
    {
      "cell_type": "markdown",
      "metadata": {
        "id": "e4V-qHAckYQs",
        "colab_type": "text"
      },
      "source": [
        "## Train CNN model"
      ]
    },
    {
      "cell_type": "code",
      "metadata": {
        "id": "xv2TvrIMkjVn",
        "colab_type": "code",
        "outputId": "5c671ad1-78bd-4cb1-c548-2fc281617f06",
        "colab": {
          "base_uri": "https://localhost:8080/",
          "height": 122
        }
      },
      "source": [
        "model = build_cnn_model()"
      ],
      "execution_count": 0,
      "outputs": [
        {
          "output_type": "stream",
          "text": [
            "W0810 12:48:36.313587 140121006331776 deprecation_wrapper.py:119] From /usr/local/lib/python3.6/dist-packages/keras/backend/tensorflow_backend.py:1834: The name tf.nn.fused_batch_norm is deprecated. Please use tf.compat.v1.nn.fused_batch_norm instead.\n",
            "\n",
            "W0810 12:48:36.832376 140121006331776 deprecation.py:506] From /usr/local/lib/python3.6/dist-packages/keras/backend/tensorflow_backend.py:3445: calling dropout (from tensorflow.python.ops.nn_ops) with keep_prob is deprecated and will be removed in a future version.\n",
            "Instructions for updating:\n",
            "Please use `rate` instead of `keep_prob`. Rate should be set to `rate = 1 - keep_prob`.\n"
          ],
          "name": "stderr"
        }
      ]
    },
    {
      "cell_type": "code",
      "metadata": {
        "id": "X_74PiMakp-n",
        "colab_type": "code",
        "colab": {}
      },
      "source": [
        "#compile\n",
        "opt = Adam(lr=0.0005)\n",
        "model.compile(loss='categorical_crossentropy', optimizer=opt, metrics=['accuracy'])"
      ],
      "execution_count": 0,
      "outputs": []
    },
    {
      "cell_type": "code",
      "metadata": {
        "id": "bjaCnyG1kqBo",
        "colab_type": "code",
        "outputId": "376c7fa4-a5e5-4c09-bd59-bfb4ba1f2d4c",
        "colab": {
          "base_uri": "https://localhost:8080/",
          "height": 374
        }
      },
      "source": [
        "# train dense model\n",
        "model.fit(x_train, y_train, batch_size=32, epochs=10, shuffle=True)"
      ],
      "execution_count": 0,
      "outputs": [
        {
          "output_type": "stream",
          "text": [
            "Epoch 1/10\n",
            "50000/50000 [==============================] - 34s 686us/step - loss: 1.5525 - acc: 0.4560\n",
            "Epoch 2/10\n",
            "50000/50000 [==============================] - 31s 621us/step - loss: 1.1545 - acc: 0.5921\n",
            "Epoch 3/10\n",
            "50000/50000 [==============================] - 31s 615us/step - loss: 1.0095 - acc: 0.6468\n",
            "Epoch 4/10\n",
            "50000/50000 [==============================] - 31s 614us/step - loss: 0.9200 - acc: 0.6789\n",
            "Epoch 5/10\n",
            "50000/50000 [==============================] - 31s 612us/step - loss: 0.8568 - acc: 0.6996\n",
            "Epoch 6/10\n",
            "50000/50000 [==============================] - 31s 618us/step - loss: 0.8035 - acc: 0.7217\n",
            "Epoch 7/10\n",
            "50000/50000 [==============================] - 31s 611us/step - loss: 0.7613 - acc: 0.7348\n",
            "Epoch 8/10\n",
            "50000/50000 [==============================] - 30s 609us/step - loss: 0.7198 - acc: 0.7482\n",
            "Epoch 9/10\n",
            "50000/50000 [==============================] - 31s 611us/step - loss: 0.6813 - acc: 0.7624\n",
            "Epoch 10/10\n",
            "50000/50000 [==============================] - 31s 614us/step - loss: 0.6524 - acc: 0.7717\n"
          ],
          "name": "stdout"
        },
        {
          "output_type": "execute_result",
          "data": {
            "text/plain": [
              "<keras.callbacks.History at 0x7f702b218da0>"
            ]
          },
          "metadata": {
            "tags": []
          },
          "execution_count": 19
        }
      ]
    },
    {
      "cell_type": "code",
      "metadata": {
        "id": "0c0PiLkAku_X",
        "colab_type": "code",
        "outputId": "b7605469-67da-46a5-acaf-7d01a19bb644",
        "colab": {
          "base_uri": "https://localhost:8080/",
          "height": 51
        }
      },
      "source": [
        "#evaluate\n",
        "model.evaluate(x_test, y_test)"
      ],
      "execution_count": 0,
      "outputs": [
        {
          "output_type": "stream",
          "text": [
            "10000/10000 [==============================] - 2s 201us/step\n"
          ],
          "name": "stdout"
        },
        {
          "output_type": "execute_result",
          "data": {
            "text/plain": [
              "[0.8042568470001221, 0.7206]"
            ]
          },
          "metadata": {
            "tags": []
          },
          "execution_count": 20
        }
      ]
    },
    {
      "cell_type": "code",
      "metadata": {
        "id": "lfXYGvXDk1Bw",
        "colab_type": "code",
        "colab": {}
      },
      "source": [
        "preds = model.predict(x_test)\n",
        "preds_class = CLASSES[np.argmax(preds, axis=-1)]\n",
        "actual_class = CLASSES[np.argmax(y_test, axis=-1)]"
      ],
      "execution_count": 0,
      "outputs": []
    },
    {
      "cell_type": "code",
      "metadata": {
        "id": "EfFxwhSnk3vO",
        "colab_type": "code",
        "outputId": "45cb9b94-011f-4dd3-83a4-04fd0eb5209d",
        "colab": {
          "base_uri": "https://localhost:8080/",
          "height": 161
        }
      },
      "source": [
        "debug_plot(preds_class, actual_class)"
      ],
      "execution_count": 0,
      "outputs": [
        {
          "output_type": "display_data",
          "data": {
            "image/png": "[encoded data removed]",
            "text/plain": [
              "<Figure size 1080x216 with 10 Axes>"
            ]
          },
          "metadata": {
            "tags": []
          }
        }
      ]
    },
    {
      "cell_type": "code",
      "metadata": {
        "id": "fwuYpHjQmKmU",
        "colab_type": "code",
        "colab": {}
      },
      "source": [
        ""
      ],
      "execution_count": 0,
      "outputs": []
    }
  ]
}